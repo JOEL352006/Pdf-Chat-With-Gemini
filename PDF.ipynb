{
  "nbformat": 4,
  "nbformat_minor": 0,
  "metadata": {
    "colab": {
      "provenance": [],
      "authorship_tag": "ABX9TyOcZHNw7SQrXrwYZ2m5cHsl",
      "include_colab_link": true
    },
    "kernelspec": {
      "name": "python3",
      "display_name": "Python 3"
    },
    "language_info": {
      "name": "python"
    }
  },
  "cells": [
    {
      "cell_type": "markdown",
      "metadata": {
        "id": "view-in-github",
        "colab_type": "text"
      },
      "source": [
        "<a href=\"https://colab.research.google.com/github/JOEL352006/Pdf-Chat-With-Gemini/blob/main/PDF.ipynb\" target=\"_parent\"><img src=\"https://colab.research.google.com/assets/colab-badge.svg\" alt=\"Open In Colab\"/></a>"
      ]
    },
    {
      "cell_type": "code",
      "execution_count": null,
      "metadata": {
        "id": "2WOAXBIs0zfL"
      },
      "outputs": [],
      "source": [
        "!pip install google-generativeai PyMuPDF streamlit pyngrok\n"
      ]
    },
    {
      "cell_type": "code",
      "source": [
        "from google.colab import files\n",
        "uploaded = files.upload()\n",
        "\n",
        "pdf_path = next(iter(uploaded))\n",
        "print(\"Uploaded PDF:\", pdf_path)\n"
      ],
      "metadata": {
        "id": "qFCQCSqE0_ke"
      },
      "execution_count": null,
      "outputs": []
    },
    {
      "cell_type": "code",
      "source": [
        "%%writefile app.py\n",
        "import streamlit as st\n",
        "import fitz\n",
        "import google.generativeai as genai\n",
        "\n",
        "GOOGLE_API_KEY = \"YOUR_GEMINI_API_KEY\"\n",
        "genai.configure(api_key=GOOGLE_API_KEY)\n",
        "\n",
        "def extract_text_chunks(pdf_file):\n",
        "    doc = fitz.open(stream=pdf_file.read(), filetype=\"pdf\")\n",
        "    chunks = []\n",
        "    for page in doc:\n",
        "        text = page.get_text().strip()\n",
        "        if text:\n",
        "            chunks.append(text)\n",
        "    return chunks\n",
        "\n",
        "def find_relevant_chunk(chunks, query):\n",
        "    model = genai.GenerativeModel('models/gemini-1.5-flash')\n",
        "    best_chunk = \"\"\n",
        "    best_score = -1\n",
        "\n",
        "    for chunk in chunks:\n",
        "        prompt = f\"\"\"\n",
        "Rate the relevance (0 to 10) of this content to the question: \"{query}\"\n",
        "Content:\n",
        "\\\"\\\"\\\"\n",
        "{chunk}\n",
        "\\\"\\\"\\\"\n",
        "Respond only with a number.\n",
        "\"\"\"\n",
        "        try:\n",
        "            response = model.generate_content(prompt)\n",
        "            score = int(''.join(filter(str.isdigit, response.text)))\n",
        "        except:\n",
        "            score = 0\n",
        "\n",
        "        if score > best_score:\n",
        "            best_score = score\n",
        "            best_chunk = chunk\n",
        "\n",
        "    return best_chunk\n",
        "\n",
        "st.set_page_config(page_title=\"PDF Q/A Chatbot - Gemini\", layout=\"wide\")\n",
        "st.title(\"📄 Gemini PDF Chatbot (Content-Strict)\")\n",
        "\n",
        "uploaded_pdf = st.file_uploader(\"Upload a PDF file\", type=\"pdf\")\n",
        "\n",
        "if uploaded_pdf is not None:\n",
        "    chunks = extract_text_chunks(uploaded_pdf)\n",
        "    st.success(f\"✅ PDF loaded with {len(chunks)} pages.\")\n",
        "\n",
        "    user_query = st.text_input(\"Ask a question (answer will come only from PDF):\")\n",
        "\n",
        "    if user_query:\n",
        "        relevant_chunk = find_relevant_chunk(chunks, user_query)\n",
        "        model = genai.GenerativeModel('models/gemini-1.5-flash')\n",
        "\n",
        "        prompt = f\"\"\"\n",
        "You must answer strictly from the following PDF content only.\n",
        "If the answer is not found in this content, reply:\n",
        "\"I cannot answer this question as it is not present in the provided document.\"\n",
        "\n",
        "PDF Content:\n",
        "\\\"\\\"\\\"\n",
        "{relevant_chunk}\n",
        "\\\"\\\"\\\"\n",
        "\n",
        "Question: {user_query}\n",
        "\"\"\"\n",
        "\n",
        "        response = model.generate_content(prompt)\n",
        "        st.write(\"🧠 Gemini says:\", response.text)\n"
      ],
      "metadata": {
        "id": "FqudTI5x1PFP"
      },
      "execution_count": null,
      "outputs": []
    },
    {
      "cell_type": "code",
      "source": [
        "!streamlit run app.py & npx localtunnel --port 8501\n"
      ],
      "metadata": {
        "id": "I-R1G9kA1fbX"
      },
      "execution_count": null,
      "outputs": []
    }
  ]
}